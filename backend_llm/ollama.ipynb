{
 "cells": [
  {
   "cell_type": "code",
   "execution_count": 4,
   "metadata": {},
   "outputs": [],
   "source": [
    "from langchain_community.chat_models import ChatOllama\n",
    "from langchain_core.prompts import ChatPromptTemplate"
   ]
  },
  {
   "cell_type": "code",
   "execution_count": 15,
   "metadata": {},
   "outputs": [],
   "source": [
    "llm = ChatOllama(base_url=\"http://192.168.115.38:11510\", model=\"gemma:2b\")"
   ]
  },
  {
   "cell_type": "code",
   "execution_count": 19,
   "metadata": {},
   "outputs": [
    {
     "name": "stdout",
     "output_type": "stream",
     "text": [
      "content='Hello' id='run-5d72c663-8e29-448c-93a2-52c3c0eae671'\n",
      "content='!' id='run-5d72c663-8e29-448c-93a2-52c3c0eae671'\n",
      "content=' It' id='run-5d72c663-8e29-448c-93a2-52c3c0eae671'\n",
      "content=\"'\" id='run-5d72c663-8e29-448c-93a2-52c3c0eae671'\n",
      "content='s' id='run-5d72c663-8e29-448c-93a2-52c3c0eae671'\n",
      "content=' a' id='run-5d72c663-8e29-448c-93a2-52c3c0eae671'\n",
      "content=' pleasure' id='run-5d72c663-8e29-448c-93a2-52c3c0eae671'\n",
      "content=' to' id='run-5d72c663-8e29-448c-93a2-52c3c0eae671'\n",
      "content=' meet' id='run-5d72c663-8e29-448c-93a2-52c3c0eae671'\n",
      "content=' you' id='run-5d72c663-8e29-448c-93a2-52c3c0eae671'\n",
      "content=' as' id='run-5d72c663-8e29-448c-93a2-52c3c0eae671'\n",
      "content=' well' id='run-5d72c663-8e29-448c-93a2-52c3c0eae671'\n",
      "content='.' id='run-5d72c663-8e29-448c-93a2-52c3c0eae671'\n",
      "content=' How' id='run-5d72c663-8e29-448c-93a2-52c3c0eae671'\n",
      "content=' may' id='run-5d72c663-8e29-448c-93a2-52c3c0eae671'\n",
      "content=' I' id='run-5d72c663-8e29-448c-93a2-52c3c0eae671'\n",
      "content=' assist' id='run-5d72c663-8e29-448c-93a2-52c3c0eae671'\n",
      "content=' you' id='run-5d72c663-8e29-448c-93a2-52c3c0eae671'\n",
      "content=' today' id='run-5d72c663-8e29-448c-93a2-52c3c0eae671'\n",
      "content='?' id='run-5d72c663-8e29-448c-93a2-52c3c0eae671'\n",
      "content='' response_metadata={'model': 'gemma:2b', 'created_at': '2024-06-13T08:44:22.912443916Z', 'message': {'role': 'assistant', 'content': ''}, 'done_reason': 'stop', 'done': True, 'total_duration': 258816848, 'load_duration': 1398331, 'prompt_eval_duration': 8326000, 'eval_count': 21, 'eval_duration': 118481000} id='run-5d72c663-8e29-448c-93a2-52c3c0eae671'\n"
     ]
    }
   ],
   "source": [
    "for i in llm.stream(\"Hello\"):\n",
    "    print(i, flush=True)"
   ]
  },
  {
   "cell_type": "code",
   "execution_count": null,
   "metadata": {},
   "outputs": [],
   "source": []
  }
 ],
 "metadata": {
  "kernelspec": {
   "display_name": "pytemp",
   "language": "python",
   "name": "python3"
  },
  "language_info": {
   "codemirror_mode": {
    "name": "ipython",
    "version": 3
   },
   "file_extension": ".py",
   "mimetype": "text/x-python",
   "name": "python",
   "nbconvert_exporter": "python",
   "pygments_lexer": "ipython3",
   "version": "3.11.9"
  }
 },
 "nbformat": 4,
 "nbformat_minor": 2
}
