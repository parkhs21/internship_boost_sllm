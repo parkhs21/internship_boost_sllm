{
 "cells": [
  {
   "cell_type": "code",
   "execution_count": 1,
   "metadata": {},
   "outputs": [],
   "source": [
    "from langchain_community.chat_models import ChatOllama\n",
    "from langchain_core.prompts import ChatPromptTemplate"
   ]
  },
  {
   "cell_type": "code",
   "execution_count": 2,
   "metadata": {},
   "outputs": [],
   "source": [
    "llm = ChatOllama(base_url=\"http://192.168.115.38:11510\", model=\"gemma:2b\")"
   ]
  },
  {
   "cell_type": "code",
   "execution_count": 7,
   "metadata": {},
   "outputs": [
    {
     "name": "stdout",
     "output_type": "stream",
     "text": [
      "content=\"Hello! It's nice to meet you. What can I do for you today?\" response_metadata={'model': 'gemma:2b', 'created_at': '2024-06-18T06:26:10.983619605Z', 'message': {'role': 'assistant', 'content': ''}, 'done_reason': 'stop', 'done': True, 'total_duration': 267590364, 'load_duration': 1287216, 'prompt_eval_duration': 22178000, 'eval_count': 19, 'eval_duration': 107573000} id='run-d8af2267-1019-4835-a196-522dd9780a80-0'\n"
     ]
    }
   ],
   "source": [
    "print(llm.invoke(\"HI\"))"
   ]
  },
  {
   "cell_type": "code",
   "execution_count": 3,
   "metadata": {},
   "outputs": [
    {
     "name": "stdout",
     "output_type": "stream",
     "text": [
      "content='Hello' id='run-c296f01f-38e3-4b66-9618-00dce1461f53'\n",
      "content='!' id='run-c296f01f-38e3-4b66-9618-00dce1461f53'\n",
      "content=' It' id='run-c296f01f-38e3-4b66-9618-00dce1461f53'\n",
      "content=\"'\" id='run-c296f01f-38e3-4b66-9618-00dce1461f53'\n",
      "content='s' id='run-c296f01f-38e3-4b66-9618-00dce1461f53'\n",
      "content=' a' id='run-c296f01f-38e3-4b66-9618-00dce1461f53'\n",
      "content=' pleasure' id='run-c296f01f-38e3-4b66-9618-00dce1461f53'\n",
      "content=' to' id='run-c296f01f-38e3-4b66-9618-00dce1461f53'\n",
      "content=' meet' id='run-c296f01f-38e3-4b66-9618-00dce1461f53'\n",
      "content=' you' id='run-c296f01f-38e3-4b66-9618-00dce1461f53'\n",
      "content='.' id='run-c296f01f-38e3-4b66-9618-00dce1461f53'\n",
      "content=' How' id='run-c296f01f-38e3-4b66-9618-00dce1461f53'\n",
      "content=' can' id='run-c296f01f-38e3-4b66-9618-00dce1461f53'\n",
      "content=' I' id='run-c296f01f-38e3-4b66-9618-00dce1461f53'\n",
      "content=' assist' id='run-c296f01f-38e3-4b66-9618-00dce1461f53'\n",
      "content=' you' id='run-c296f01f-38e3-4b66-9618-00dce1461f53'\n",
      "content=' today' id='run-c296f01f-38e3-4b66-9618-00dce1461f53'\n",
      "content='?' id='run-c296f01f-38e3-4b66-9618-00dce1461f53'\n",
      "content='' response_metadata={'model': 'gemma:2b', 'created_at': '2024-06-18T06:25:01.282064136Z', 'message': {'role': 'assistant', 'content': ''}, 'done_reason': 'stop', 'done': True, 'total_duration': 3282168303, 'load_duration': 3046429928, 'prompt_eval_count': 28, 'prompt_eval_duration': 39526000, 'eval_count': 19, 'eval_duration': 107306000} id='run-c296f01f-38e3-4b66-9618-00dce1461f53'\n"
     ]
    }
   ],
   "source": [
    "for i in llm.stream(\"Hello\"):\n",
    "    print(i, flush=True)"
   ]
  }
 ],
 "metadata": {
  "kernelspec": {
   "display_name": "pytemp",
   "language": "python",
   "name": "python3"
  },
  "language_info": {
   "codemirror_mode": {
    "name": "ipython",
    "version": 3
   },
   "file_extension": ".py",
   "mimetype": "text/x-python",
   "name": "python",
   "nbconvert_exporter": "python",
   "pygments_lexer": "ipython3",
   "version": "3.11.9"
  }
 },
 "nbformat": 4,
 "nbformat_minor": 2
}
